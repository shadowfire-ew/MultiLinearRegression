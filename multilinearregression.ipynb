{
 "cells": [
  {
   "cell_type": "markdown",
   "metadata": {},
   "source": [
    "# Multi Linear regression\n",
    "By Caleb Erb-White"
   ]
  },
  {
   "cell_type": "code",
   "execution_count": 1,
   "metadata": {},
   "outputs": [],
   "source": [
    "# our imports\n",
    "import numpy as np\n",
    "import pandas as pd\n",
    "import sklearn.model_selection as sklmdl"
   ]
  },
  {
   "cell_type": "code",
   "execution_count": 2,
   "metadata": {},
   "outputs": [
    {
     "data": {
      "text/html": [
       "<div>\n",
       "<style scoped>\n",
       "    .dataframe tbody tr th:only-of-type {\n",
       "        vertical-align: middle;\n",
       "    }\n",
       "\n",
       "    .dataframe tbody tr th {\n",
       "        vertical-align: top;\n",
       "    }\n",
       "\n",
       "    .dataframe thead th {\n",
       "        text-align: right;\n",
       "    }\n",
       "</style>\n",
       "<table border=\"1\" class=\"dataframe\">\n",
       "  <thead>\n",
       "    <tr style=\"text-align: right;\">\n",
       "      <th></th>\n",
       "      <th>Number</th>\n",
       "      <th>Name</th>\n",
       "      <th>Type 1</th>\n",
       "      <th>Type 2</th>\n",
       "      <th>Abilities</th>\n",
       "      <th>HP</th>\n",
       "      <th>Att</th>\n",
       "      <th>Def</th>\n",
       "      <th>Spa</th>\n",
       "      <th>Spd</th>\n",
       "      <th>...</th>\n",
       "      <th>Against Bug</th>\n",
       "      <th>Against Rock</th>\n",
       "      <th>Against Ghost</th>\n",
       "      <th>Against Dragon</th>\n",
       "      <th>Against Dark</th>\n",
       "      <th>Against Steel</th>\n",
       "      <th>Against Fairy</th>\n",
       "      <th>Height</th>\n",
       "      <th>Weight</th>\n",
       "      <th>BMI</th>\n",
       "    </tr>\n",
       "  </thead>\n",
       "  <tbody>\n",
       "    <tr>\n",
       "      <th>0</th>\n",
       "      <td>1</td>\n",
       "      <td>Bulbasaur</td>\n",
       "      <td>Grass</td>\n",
       "      <td>Poison</td>\n",
       "      <td>['Chlorophyll', 'Overgrow']</td>\n",
       "      <td>45</td>\n",
       "      <td>49</td>\n",
       "      <td>49</td>\n",
       "      <td>65</td>\n",
       "      <td>65</td>\n",
       "      <td>...</td>\n",
       "      <td>1.00</td>\n",
       "      <td>1.0</td>\n",
       "      <td>1.0</td>\n",
       "      <td>1.0</td>\n",
       "      <td>1.0</td>\n",
       "      <td>1.0</td>\n",
       "      <td>0.5</td>\n",
       "      <td>0.7</td>\n",
       "      <td>6.9</td>\n",
       "      <td>14.1</td>\n",
       "    </tr>\n",
       "    <tr>\n",
       "      <th>1</th>\n",
       "      <td>2</td>\n",
       "      <td>Ivysaur</td>\n",
       "      <td>Grass</td>\n",
       "      <td>Poison</td>\n",
       "      <td>['Chlorophyll', 'Overgrow']</td>\n",
       "      <td>60</td>\n",
       "      <td>62</td>\n",
       "      <td>63</td>\n",
       "      <td>80</td>\n",
       "      <td>80</td>\n",
       "      <td>...</td>\n",
       "      <td>1.00</td>\n",
       "      <td>1.0</td>\n",
       "      <td>1.0</td>\n",
       "      <td>1.0</td>\n",
       "      <td>1.0</td>\n",
       "      <td>1.0</td>\n",
       "      <td>0.5</td>\n",
       "      <td>1.0</td>\n",
       "      <td>13.0</td>\n",
       "      <td>13.0</td>\n",
       "    </tr>\n",
       "    <tr>\n",
       "      <th>2</th>\n",
       "      <td>3</td>\n",
       "      <td>Venusaur</td>\n",
       "      <td>Grass</td>\n",
       "      <td>Poison</td>\n",
       "      <td>['Chlorophyll', 'Overgrow']</td>\n",
       "      <td>80</td>\n",
       "      <td>82</td>\n",
       "      <td>83</td>\n",
       "      <td>100</td>\n",
       "      <td>100</td>\n",
       "      <td>...</td>\n",
       "      <td>1.00</td>\n",
       "      <td>1.0</td>\n",
       "      <td>1.0</td>\n",
       "      <td>1.0</td>\n",
       "      <td>1.0</td>\n",
       "      <td>1.0</td>\n",
       "      <td>0.5</td>\n",
       "      <td>2.0</td>\n",
       "      <td>100.0</td>\n",
       "      <td>25.0</td>\n",
       "    </tr>\n",
       "    <tr>\n",
       "      <th>3</th>\n",
       "      <td>3</td>\n",
       "      <td>Mega Venusaur</td>\n",
       "      <td>Grass</td>\n",
       "      <td>Poison</td>\n",
       "      <td>['Thick Fat']</td>\n",
       "      <td>80</td>\n",
       "      <td>100</td>\n",
       "      <td>123</td>\n",
       "      <td>122</td>\n",
       "      <td>120</td>\n",
       "      <td>...</td>\n",
       "      <td>1.00</td>\n",
       "      <td>1.0</td>\n",
       "      <td>1.0</td>\n",
       "      <td>1.0</td>\n",
       "      <td>1.0</td>\n",
       "      <td>1.0</td>\n",
       "      <td>0.5</td>\n",
       "      <td>2.4</td>\n",
       "      <td>155.5</td>\n",
       "      <td>27.0</td>\n",
       "    </tr>\n",
       "    <tr>\n",
       "      <th>4</th>\n",
       "      <td>4</td>\n",
       "      <td>Charmander</td>\n",
       "      <td>Fire</td>\n",
       "      <td>NaN</td>\n",
       "      <td>['Blaze', 'Solar Power']</td>\n",
       "      <td>39</td>\n",
       "      <td>52</td>\n",
       "      <td>43</td>\n",
       "      <td>60</td>\n",
       "      <td>50</td>\n",
       "      <td>...</td>\n",
       "      <td>0.50</td>\n",
       "      <td>2.0</td>\n",
       "      <td>1.0</td>\n",
       "      <td>1.0</td>\n",
       "      <td>1.0</td>\n",
       "      <td>0.5</td>\n",
       "      <td>0.5</td>\n",
       "      <td>0.6</td>\n",
       "      <td>8.5</td>\n",
       "      <td>23.6</td>\n",
       "    </tr>\n",
       "    <tr>\n",
       "      <th>5</th>\n",
       "      <td>5</td>\n",
       "      <td>Charmeleon</td>\n",
       "      <td>Fire</td>\n",
       "      <td>NaN</td>\n",
       "      <td>['Blaze', 'Solar Power']</td>\n",
       "      <td>58</td>\n",
       "      <td>64</td>\n",
       "      <td>58</td>\n",
       "      <td>80</td>\n",
       "      <td>65</td>\n",
       "      <td>...</td>\n",
       "      <td>0.50</td>\n",
       "      <td>2.0</td>\n",
       "      <td>1.0</td>\n",
       "      <td>1.0</td>\n",
       "      <td>1.0</td>\n",
       "      <td>0.5</td>\n",
       "      <td>0.5</td>\n",
       "      <td>1.1</td>\n",
       "      <td>19.0</td>\n",
       "      <td>15.7</td>\n",
       "    </tr>\n",
       "    <tr>\n",
       "      <th>6</th>\n",
       "      <td>6</td>\n",
       "      <td>Charizard</td>\n",
       "      <td>Fire</td>\n",
       "      <td>Flying</td>\n",
       "      <td>['Blaze', 'Solar Power']</td>\n",
       "      <td>78</td>\n",
       "      <td>84</td>\n",
       "      <td>78</td>\n",
       "      <td>109</td>\n",
       "      <td>85</td>\n",
       "      <td>...</td>\n",
       "      <td>0.25</td>\n",
       "      <td>4.0</td>\n",
       "      <td>1.0</td>\n",
       "      <td>1.0</td>\n",
       "      <td>1.0</td>\n",
       "      <td>0.5</td>\n",
       "      <td>0.5</td>\n",
       "      <td>1.7</td>\n",
       "      <td>90.5</td>\n",
       "      <td>31.3</td>\n",
       "    </tr>\n",
       "    <tr>\n",
       "      <th>7</th>\n",
       "      <td>6</td>\n",
       "      <td>Mega Charizard Y</td>\n",
       "      <td>Fire</td>\n",
       "      <td>Flying</td>\n",
       "      <td>['Drought']</td>\n",
       "      <td>78</td>\n",
       "      <td>104</td>\n",
       "      <td>78</td>\n",
       "      <td>159</td>\n",
       "      <td>115</td>\n",
       "      <td>...</td>\n",
       "      <td>0.25</td>\n",
       "      <td>4.0</td>\n",
       "      <td>1.0</td>\n",
       "      <td>1.0</td>\n",
       "      <td>1.0</td>\n",
       "      <td>0.5</td>\n",
       "      <td>0.5</td>\n",
       "      <td>1.7</td>\n",
       "      <td>100.5</td>\n",
       "      <td>34.8</td>\n",
       "    </tr>\n",
       "    <tr>\n",
       "      <th>8</th>\n",
       "      <td>6</td>\n",
       "      <td>Mega Charizard X</td>\n",
       "      <td>Fire</td>\n",
       "      <td>Dragon</td>\n",
       "      <td>['Tough Claws']</td>\n",
       "      <td>78</td>\n",
       "      <td>130</td>\n",
       "      <td>111</td>\n",
       "      <td>130</td>\n",
       "      <td>85</td>\n",
       "      <td>...</td>\n",
       "      <td>0.50</td>\n",
       "      <td>2.0</td>\n",
       "      <td>1.0</td>\n",
       "      <td>2.0</td>\n",
       "      <td>1.0</td>\n",
       "      <td>0.5</td>\n",
       "      <td>1.0</td>\n",
       "      <td>1.7</td>\n",
       "      <td>110.5</td>\n",
       "      <td>38.2</td>\n",
       "    </tr>\n",
       "    <tr>\n",
       "      <th>9</th>\n",
       "      <td>7</td>\n",
       "      <td>Squirtle</td>\n",
       "      <td>Water</td>\n",
       "      <td>NaN</td>\n",
       "      <td>['Rain Dish', 'Torrent']</td>\n",
       "      <td>44</td>\n",
       "      <td>48</td>\n",
       "      <td>65</td>\n",
       "      <td>50</td>\n",
       "      <td>64</td>\n",
       "      <td>...</td>\n",
       "      <td>1.00</td>\n",
       "      <td>1.0</td>\n",
       "      <td>1.0</td>\n",
       "      <td>1.0</td>\n",
       "      <td>1.0</td>\n",
       "      <td>0.5</td>\n",
       "      <td>1.0</td>\n",
       "      <td>0.5</td>\n",
       "      <td>9.0</td>\n",
       "      <td>36.0</td>\n",
       "    </tr>\n",
       "  </tbody>\n",
       "</table>\n",
       "<p>10 rows × 44 columns</p>\n",
       "</div>"
      ],
      "text/plain": [
       "   Number              Name Type 1  Type 2                    Abilities  HP  \\\n",
       "0       1         Bulbasaur  Grass  Poison  ['Chlorophyll', 'Overgrow']  45   \n",
       "1       2           Ivysaur  Grass  Poison  ['Chlorophyll', 'Overgrow']  60   \n",
       "2       3          Venusaur  Grass  Poison  ['Chlorophyll', 'Overgrow']  80   \n",
       "3       3     Mega Venusaur  Grass  Poison                ['Thick Fat']  80   \n",
       "4       4        Charmander   Fire     NaN     ['Blaze', 'Solar Power']  39   \n",
       "5       5        Charmeleon   Fire     NaN     ['Blaze', 'Solar Power']  58   \n",
       "6       6         Charizard   Fire  Flying     ['Blaze', 'Solar Power']  78   \n",
       "7       6  Mega Charizard Y   Fire  Flying                  ['Drought']  78   \n",
       "8       6  Mega Charizard X   Fire  Dragon              ['Tough Claws']  78   \n",
       "9       7          Squirtle  Water     NaN     ['Rain Dish', 'Torrent']  44   \n",
       "\n",
       "   Att  Def  Spa  Spd  ...  Against Bug  Against Rock  Against Ghost  \\\n",
       "0   49   49   65   65  ...         1.00           1.0            1.0   \n",
       "1   62   63   80   80  ...         1.00           1.0            1.0   \n",
       "2   82   83  100  100  ...         1.00           1.0            1.0   \n",
       "3  100  123  122  120  ...         1.00           1.0            1.0   \n",
       "4   52   43   60   50  ...         0.50           2.0            1.0   \n",
       "5   64   58   80   65  ...         0.50           2.0            1.0   \n",
       "6   84   78  109   85  ...         0.25           4.0            1.0   \n",
       "7  104   78  159  115  ...         0.25           4.0            1.0   \n",
       "8  130  111  130   85  ...         0.50           2.0            1.0   \n",
       "9   48   65   50   64  ...         1.00           1.0            1.0   \n",
       "\n",
       "   Against Dragon  Against Dark Against Steel  Against Fairy  Height  Weight  \\\n",
       "0             1.0           1.0           1.0            0.5     0.7     6.9   \n",
       "1             1.0           1.0           1.0            0.5     1.0    13.0   \n",
       "2             1.0           1.0           1.0            0.5     2.0   100.0   \n",
       "3             1.0           1.0           1.0            0.5     2.4   155.5   \n",
       "4             1.0           1.0           0.5            0.5     0.6     8.5   \n",
       "5             1.0           1.0           0.5            0.5     1.1    19.0   \n",
       "6             1.0           1.0           0.5            0.5     1.7    90.5   \n",
       "7             1.0           1.0           0.5            0.5     1.7   100.5   \n",
       "8             2.0           1.0           0.5            1.0     1.7   110.5   \n",
       "9             1.0           1.0           0.5            1.0     0.5     9.0   \n",
       "\n",
       "    BMI  \n",
       "0  14.1  \n",
       "1  13.0  \n",
       "2  25.0  \n",
       "3  27.0  \n",
       "4  23.6  \n",
       "5  15.7  \n",
       "6  31.3  \n",
       "7  34.8  \n",
       "8  38.2  \n",
       "9  36.0  \n",
       "\n",
       "[10 rows x 44 columns]"
      ]
     },
     "execution_count": 2,
     "metadata": {},
     "output_type": "execute_result"
    }
   ],
   "source": [
    "# getting the dataset\n",
    "# change the csv to your chosen csv\n",
    "# data from : https://www.kaggle.com/maca11/all-pokemon-dataset/version/7\n",
    "df = pd.read_csv(\"All_Pokemon.csv\")\n",
    "# displaying the first 10 entries\n",
    "df.head(10)"
   ]
  },
  {
   "cell_type": "code",
   "execution_count": 3,
   "metadata": {},
   "outputs": [
    {
     "data": {
      "text/plain": [
       "1032"
      ]
     },
     "execution_count": 3,
     "metadata": {},
     "output_type": "execute_result"
    }
   ],
   "source": [
    "# getting the number of entries\n",
    "m = len(df)\n",
    "m"
   ]
  },
  {
   "cell_type": "markdown",
   "metadata": {},
   "source": [
    "# Some initial plots to see possible relationships"
   ]
  },
  {
   "cell_type": "code",
   "execution_count": 4,
   "metadata": {},
   "outputs": [
    {
     "data": {
      "image/png": "[encoded data removed]",
      "text/plain": [
       "<Figure size 432x288 with 1 Axes>"
      ]
     },
     "metadata": {
      "needs_background": "light"
     },
     "output_type": "display_data"
    }
   ],
   "source": [
    "# catch rate vs legendary\n",
    "import matplotlib.pyplot as plt\n",
    "plt.figure()\n",
    "plt.scatter(x=df[\"Catch Rate\"],y=df[\"Legendary\"])\n",
    "plt.title(\"Catch rate vs legendary\")\n",
    "plt.show()"
   ]
  },
  {
   "cell_type": "code",
   "execution_count": 5,
   "metadata": {},
   "outputs": [
    {
     "data": {
      "image/png": "[encoded data removed]",
      "text/plain": [
       "<Figure size 432x288 with 1 Axes>"
      ]
     },
     "metadata": {
      "needs_background": "light"
     },
     "output_type": "display_data"
    }
   ],
   "source": [
    "# number vs bst\n",
    "plt.figure()\n",
    "plt.scatter(x=df[\"Number\"],y=df[\"BST\"])\n",
    "plt.title(\"number vs base stat total\")\n",
    "plt.show()"
   ]
  },
  {
   "cell_type": "code",
   "execution_count": 6,
   "metadata": {},
   "outputs": [
    {
     "data": {
      "image/png": "[encoded data removed]",
      "text/plain": [
       "<Figure size 432x288 with 1 Axes>"
      ]
     },
     "metadata": {
      "needs_background": "light"
     },
     "output_type": "display_data"
    }
   ],
   "source": [
    "# experience to level 100 vs legendary\n",
    "plt.figure()\n",
    "plt.scatter(x=df[\"Experience to level 100\"],y=df[\"Legendary\"])\n",
    "plt.title(\"experience to level 100 vs legendary\")\n",
    "plt.show()"
   ]
  },
  {
   "cell_type": "code",
   "execution_count": 7,
   "metadata": {},
   "outputs": [
    {
     "data": {
      "image/png": "[encoded data removed]",
      "text/plain": [
       "<Figure size 432x288 with 1 Axes>"
      ]
     },
     "metadata": {
      "needs_background": "light"
     },
     "output_type": "display_data"
    }
   ],
   "source": [
    "# generation vs bst\n",
    "plt.figure()\n",
    "plt.scatter(x=df[\"Generation\"], y=df[\"BST\"])\n",
    "plt.title(\"generation vs bst\")\n",
    "plt.show()"
   ]
  },
  {
   "cell_type": "code",
   "execution_count": 8,
   "metadata": {},
   "outputs": [
    {
     "data": {
      "image/png": "[encoded data removed]",
      "text/plain": [
       "<Figure size 432x288 with 1 Axes>"
      ]
     },
     "metadata": {
      "needs_background": "light"
     },
     "output_type": "display_data"
    }
   ],
   "source": [
    "# weight vs legendary\n",
    "plt.figure()\n",
    "plt.scatter(x=df[\"Weight\"],y=df[\"Legendary\"])\n",
    "plt.title(\"weight vs legendary\")\n",
    "plt.show()"
   ]
  },
  {
   "cell_type": "code",
   "execution_count": 9,
   "metadata": {},
   "outputs": [
    {
     "data": {
      "image/png": "[encoded data removed]",
      "text/plain": [
       "<Figure size 432x288 with 1 Axes>"
      ]
     },
     "metadata": {
      "needs_background": "light"
     },
     "output_type": "display_data"
    }
   ],
   "source": [
    "# weight vs mega evolution\n",
    "plt.figure()\n",
    "plt.scatter(x=df[\"Weight\"],y=df[\"Mega Evolution\"])\n",
    "plt.title(\"weight ve mega evolution\")\n",
    "plt.show()"
   ]
  },
  {
   "cell_type": "code",
   "execution_count": 10,
   "metadata": {},
   "outputs": [
    {
     "data": {
      "image/png": "[encoded data removed]",
      "text/plain": [
       "<Figure size 432x288 with 1 Axes>"
      ]
     },
     "metadata": {
      "needs_background": "light"
     },
     "output_type": "display_data"
    }
   ],
   "source": [
    "# bst vs legendary\n",
    "plt.figure()\n",
    "plt.scatter(x=df[\"BST\"],y=df[\"Legendary\"])\n",
    "plt.title(\"base stat total vs legendary\")\n",
    "plt.show()"
   ]
  },
  {
   "cell_type": "code",
   "execution_count": 11,
   "metadata": {},
   "outputs": [
    {
     "data": {
      "image/png": "[encoded data removed]",
      "text/plain": [
       "<Figure size 432x288 with 1 Axes>"
      ]
     },
     "metadata": {
      "needs_background": "light"
     },
     "output_type": "display_data"
    }
   ],
   "source": [
    "# bst vs final evolution\n",
    "plt.figure()\n",
    "plt.scatter(x=df[\"BST\"],y=df[\"Final Evolution\"])\n",
    "plt.title(\"base stat total vs final evolution\")\n",
    "plt.show()"
   ]
  },
  {
   "cell_type": "code",
   "execution_count": 12,
   "metadata": {},
   "outputs": [
    {
     "data": {
      "image/png": "[encoded data removed]",
      "text/plain": [
       "<Figure size 432x288 with 1 Axes>"
      ]
     },
     "metadata": {
      "needs_background": "light"
     },
     "output_type": "display_data"
    }
   ],
   "source": [
    "# best vs mega evolution\n",
    "plt.figure()\n",
    "plt.scatter(x=df[\"BST\"],y=df[\"Mega Evolution\"])\n",
    "plt.title(\"base stat total vs mega evolution\")\n",
    "plt.show()"
   ]
  },
  {
   "cell_type": "code",
   "execution_count": 13,
   "metadata": {},
   "outputs": [
    {
     "data": {
      "image/png": "[encoded data removed]",
      "text/plain": [
       "<Figure size 432x288 with 1 Axes>"
      ]
     },
     "metadata": {
      "needs_background": "light"
     },
     "output_type": "display_data"
    }
   ],
   "source": [
    "# generation vs mega evolution\n",
    "plt.figure()\n",
    "plt.scatter(x=df[\"Generation\"], y=df[\"Mega Evolution\"])\n",
    "plt.title(\"generation vs mega evolution\")\n",
    "plt.show()"
   ]
  },
  {
   "cell_type": "code",
   "execution_count": 14,
   "metadata": {},
   "outputs": [
    {
     "data": {
      "image/png": "[encoded data removed]",
      "text/plain": [
       "<Figure size 432x288 with 1 Axes>"
      ]
     },
     "metadata": {
      "needs_background": "light"
     },
     "output_type": "display_data"
    }
   ],
   "source": [
    "# experience type vs bst\n",
    "plt.figure()\n",
    "plt.scatter(x=df[\"Experience type\"],y=df[\"BST\"])\n",
    "plt.title(\"experience type vs base stat total\")\n",
    "plt.show()"
   ]
  },
  {
   "cell_type": "code",
   "execution_count": 15,
   "metadata": {},
   "outputs": [
    {
     "data": {
      "image/png": "[encoded data removed]",
      "text/plain": [
       "<Figure size 432x288 with 1 Axes>"
      ]
     },
     "metadata": {
      "needs_background": "light"
     },
     "output_type": "display_data"
    }
   ],
   "source": [
    "# experience type vs legendary\n",
    "plt.figure()\n",
    "plt.scatter(x=df[\"Experience type\"],y=df[\"Legendary\"])\n",
    "plt.title(\"experience type vs legendary\")\n",
    "plt.show()"
   ]
  },
  {
   "cell_type": "markdown",
   "metadata": {},
   "source": [
    "# Getting our output matrix"
   ]
  },
  {
   "cell_type": "code",
   "execution_count": 16,
   "metadata": {},
   "outputs": [
    {
     "data": {
      "text/html": [
       "<div>\n",
       "<style scoped>\n",
       "    .dataframe tbody tr th:only-of-type {\n",
       "        vertical-align: middle;\n",
       "    }\n",
       "\n",
       "    .dataframe tbody tr th {\n",
       "        vertical-align: top;\n",
       "    }\n",
       "\n",
       "    .dataframe thead th {\n",
       "        text-align: right;\n",
       "    }\n",
       "</style>\n",
       "<table border=\"1\" class=\"dataframe\">\n",
       "  <thead>\n",
       "    <tr style=\"text-align: right;\">\n",
       "      <th></th>\n",
       "      <th>HP</th>\n",
       "      <th>Att</th>\n",
       "      <th>Def</th>\n",
       "      <th>Spa</th>\n",
       "      <th>Spd</th>\n",
       "      <th>Spe</th>\n",
       "    </tr>\n",
       "  </thead>\n",
       "  <tbody>\n",
       "    <tr>\n",
       "      <th>0</th>\n",
       "      <td>45</td>\n",
       "      <td>49</td>\n",
       "      <td>49</td>\n",
       "      <td>65</td>\n",
       "      <td>65</td>\n",
       "      <td>45</td>\n",
       "    </tr>\n",
       "    <tr>\n",
       "      <th>1</th>\n",
       "      <td>60</td>\n",
       "      <td>62</td>\n",
       "      <td>63</td>\n",
       "      <td>80</td>\n",
       "      <td>80</td>\n",
       "      <td>60</td>\n",
       "    </tr>\n",
       "    <tr>\n",
       "      <th>2</th>\n",
       "      <td>80</td>\n",
       "      <td>82</td>\n",
       "      <td>83</td>\n",
       "      <td>100</td>\n",
       "      <td>100</td>\n",
       "      <td>80</td>\n",
       "    </tr>\n",
       "    <tr>\n",
       "      <th>3</th>\n",
       "      <td>80</td>\n",
       "      <td>100</td>\n",
       "      <td>123</td>\n",
       "      <td>122</td>\n",
       "      <td>120</td>\n",
       "      <td>80</td>\n",
       "    </tr>\n",
       "    <tr>\n",
       "      <th>4</th>\n",
       "      <td>39</td>\n",
       "      <td>52</td>\n",
       "      <td>43</td>\n",
       "      <td>60</td>\n",
       "      <td>50</td>\n",
       "      <td>65</td>\n",
       "    </tr>\n",
       "  </tbody>\n",
       "</table>\n",
       "</div>"
      ],
      "text/plain": [
       "   HP  Att  Def  Spa  Spd  Spe\n",
       "0  45   49   49   65   65   45\n",
       "1  60   62   63   80   80   60\n",
       "2  80   82   83  100  100   80\n",
       "3  80  100  123  122  120   80\n",
       "4  39   52   43   60   50   65"
      ]
     },
     "execution_count": 16,
     "metadata": {},
     "output_type": "execute_result"
    }
   ],
   "source": [
    "# replace with your own list of linear features of choice\n",
    "y = df[[\"HP\",\"Att\",\"Def\",\"Spa\",\"Spd\",\"Spe\"]]\n",
    "# displaying the first few entries\n",
    "y.head()"
   ]
  },
  {
   "cell_type": "markdown",
   "metadata": {},
   "source": [
    "# Building our input matrix"
   ]
  },
  {
   "cell_type": "code",
   "execution_count": 17,
   "metadata": {},
   "outputs": [
    {
     "data": {
      "text/plain": [
       "['Bug',\n",
       " 'Dark',\n",
       " 'Dragon',\n",
       " 'Electric',\n",
       " 'Fairy',\n",
       " 'Fighting',\n",
       " 'Fire',\n",
       " 'Flying',\n",
       " 'Ghost',\n",
       " 'Grass',\n",
       " 'Ground',\n",
       " 'Ice',\n",
       " 'Normal',\n",
       " 'Poison',\n",
       " 'Psychic',\n",
       " 'Rock',\n",
       " 'Steel',\n",
       " 'Water']"
      ]
     },
     "execution_count": 17,
     "metadata": {},
     "output_type": "execute_result"
    }
   ],
   "source": [
    "# counting types\n",
    "types1 = list(df[\"Type 1\"].unique())\n",
    "types1.sort()\n",
    "types1"
   ]
  },
  {
   "cell_type": "code",
   "execution_count": 18,
   "metadata": {},
   "outputs": [
    {
     "data": {
      "text/plain": [
       "[nan,\n",
       " 'Bug',\n",
       " 'Dark',\n",
       " 'Dragon',\n",
       " 'Electric',\n",
       " 'Fairy',\n",
       " 'Fighting',\n",
       " 'Fire',\n",
       " 'Flying',\n",
       " 'Ghost',\n",
       " 'Grass',\n",
       " 'Ground',\n",
       " 'Ice',\n",
       " 'Normal',\n",
       " 'Poison',\n",
       " 'Psychic',\n",
       " 'Rock',\n",
       " 'Steel',\n",
       " 'Water']"
      ]
     },
     "execution_count": 18,
     "metadata": {},
     "output_type": "execute_result"
    }
   ],
   "source": [
    "# not all pokemon have a type 2\n",
    "types2=[np.NAN]+types1\n",
    "types2"
   ]
  },
  {
   "cell_type": "code",
   "execution_count": 19,
   "metadata": {},
   "outputs": [
    {
     "data": {
      "text/html": [
       "<div>\n",
       "<style scoped>\n",
       "    .dataframe tbody tr th:only-of-type {\n",
       "        vertical-align: middle;\n",
       "    }\n",
       "\n",
       "    .dataframe tbody tr th {\n",
       "        vertical-align: top;\n",
       "    }\n",
       "\n",
       "    .dataframe thead th {\n",
       "        text-align: right;\n",
       "    }\n",
       "</style>\n",
       "<table border=\"1\" class=\"dataframe\">\n",
       "  <thead>\n",
       "    <tr style=\"text-align: right;\">\n",
       "      <th></th>\n",
       "      <th>Type 1</th>\n",
       "      <th>Type 2</th>\n",
       "    </tr>\n",
       "  </thead>\n",
       "  <tbody>\n",
       "    <tr>\n",
       "      <th>0</th>\n",
       "      <td>0.529412</td>\n",
       "      <td>0.777778</td>\n",
       "    </tr>\n",
       "    <tr>\n",
       "      <th>1</th>\n",
       "      <td>0.529412</td>\n",
       "      <td>0.777778</td>\n",
       "    </tr>\n",
       "    <tr>\n",
       "      <th>2</th>\n",
       "      <td>0.529412</td>\n",
       "      <td>0.777778</td>\n",
       "    </tr>\n",
       "    <tr>\n",
       "      <th>3</th>\n",
       "      <td>0.529412</td>\n",
       "      <td>0.777778</td>\n",
       "    </tr>\n",
       "    <tr>\n",
       "      <th>4</th>\n",
       "      <td>0.352941</td>\n",
       "      <td>0.000000</td>\n",
       "    </tr>\n",
       "  </tbody>\n",
       "</table>\n",
       "</div>"
      ],
      "text/plain": [
       "     Type 1    Type 2\n",
       "0  0.529412  0.777778\n",
       "1  0.529412  0.777778\n",
       "2  0.529412  0.777778\n",
       "3  0.529412  0.777778\n",
       "4  0.352941  0.000000"
      ]
     },
     "execution_count": 19,
     "metadata": {},
     "output_type": "execute_result"
    }
   ],
   "source": [
    "# making a new dataframe with the types as ratios out of the max for that slot\n",
    "typesdf = pd.DataFrame(np.zeros((m,2)),columns=['Type 1', 'Type 2'])\n",
    "# convert each entry in the main df into the ratio\n",
    "for row in range(m):\n",
    "    type1 = df[\"Type 1\"][row]\n",
    "    typesdf.at[row,\"Type 1\"] = types1.index(type1)/(len(types1)-1)\n",
    "    type2 = df[\"Type 2\"][row]\n",
    "    typesdf.at[row,\"Type 2\"] = types2.index(type2)/(len(types2)-1)\n",
    "# showing the first few entries of our normalized types\n",
    "typesdf.head()"
   ]
  },
  {
   "cell_type": "code",
   "execution_count": 20,
   "metadata": {},
   "outputs": [
    {
     "name": "stdout",
     "output_type": "stream",
     "text": [
      "264\n"
     ]
    },
    {
     "data": {
      "text/plain": [
       "[None,\n",
       " 'Adaptability',\n",
       " 'Aerilate',\n",
       " 'Aftermath',\n",
       " 'Air Lock',\n",
       " 'Analytic',\n",
       " 'Anger Point',\n",
       " 'Anticipation',\n",
       " 'Arena Trap',\n",
       " 'Aroma Veil']"
      ]
     },
     "execution_count": 20,
     "metadata": {},
     "output_type": "execute_result"
    }
   ],
   "source": [
    "# counting abilities\n",
    "# getting the total number of unique ability set lists\n",
    "temp = df[\"Abilities\"].unique()\n",
    "# an array for unique abilities\n",
    "abilities=[]\n",
    "# finding unique abilities within the ability sets\n",
    "for entry in temp:\n",
    "    # evaluating the entry string to get a list object with abilities as strings\n",
    "    templist = eval(entry)\n",
    "    # going trough that list\n",
    "    for item in templist:\n",
    "        # adding an ability that is unseen\n",
    "        if item not in abilities:\n",
    "            abilities.append(item)\n",
    "# show the total number of abilities\n",
    "print(len(abilities))\n",
    "# sort the abilities\n",
    "abilities.sort()\n",
    "# add none to the begining to account for pokemon with <3 abilities\n",
    "abilities=[None]+abilities\n",
    "# show the first 10 entries of our abilities list\n",
    "abilities[:10]"
   ]
  },
  {
   "cell_type": "code",
   "execution_count": 21,
   "metadata": {},
   "outputs": [
    {
     "data": {
      "text/html": [
       "<div>\n",
       "<style scoped>\n",
       "    .dataframe tbody tr th:only-of-type {\n",
       "        vertical-align: middle;\n",
       "    }\n",
       "\n",
       "    .dataframe tbody tr th {\n",
       "        vertical-align: top;\n",
       "    }\n",
       "\n",
       "    .dataframe thead th {\n",
       "        text-align: right;\n",
       "    }\n",
       "</style>\n",
       "<table border=\"1\" class=\"dataframe\">\n",
       "  <thead>\n",
       "    <tr style=\"text-align: right;\">\n",
       "      <th></th>\n",
       "      <th>Ability 1</th>\n",
       "      <th>Ability 2</th>\n",
       "      <th>Ability 3</th>\n",
       "    </tr>\n",
       "  </thead>\n",
       "  <tbody>\n",
       "    <tr>\n",
       "      <th>0</th>\n",
       "      <td>0.090909</td>\n",
       "      <td>0.534091</td>\n",
       "      <td>0.0</td>\n",
       "    </tr>\n",
       "    <tr>\n",
       "      <th>1</th>\n",
       "      <td>0.090909</td>\n",
       "      <td>0.534091</td>\n",
       "      <td>0.0</td>\n",
       "    </tr>\n",
       "    <tr>\n",
       "      <th>2</th>\n",
       "      <td>0.090909</td>\n",
       "      <td>0.534091</td>\n",
       "      <td>0.0</td>\n",
       "    </tr>\n",
       "    <tr>\n",
       "      <th>3</th>\n",
       "      <td>0.897727</td>\n",
       "      <td>0.000000</td>\n",
       "      <td>0.0</td>\n",
       "    </tr>\n",
       "    <tr>\n",
       "      <th>4</th>\n",
       "      <td>0.075758</td>\n",
       "      <td>0.772727</td>\n",
       "      <td>0.0</td>\n",
       "    </tr>\n",
       "  </tbody>\n",
       "</table>\n",
       "</div>"
      ],
      "text/plain": [
       "   Ability 1  Ability 2  Ability 3\n",
       "0   0.090909   0.534091        0.0\n",
       "1   0.090909   0.534091        0.0\n",
       "2   0.090909   0.534091        0.0\n",
       "3   0.897727   0.000000        0.0\n",
       "4   0.075758   0.772727        0.0"
      ]
     },
     "execution_count": 21,
     "metadata": {},
     "output_type": "execute_result"
    }
   ],
   "source": [
    "# making an abilities df of 3 columns full of ratios of types for those slots\n",
    "abilitydf = pd.DataFrame(np.zeros((m,3)),columns=['Ability 1', 'Ability 2', 'Ability 3'])\n",
    "# some pokemon have their hidden ability as ability 2\n",
    "# i dont think it matters too much\n",
    "for row in range(m):\n",
    "    # get the abilities list like before\n",
    "    entry = eval(df[\"Abilities\"][row])\n",
    "    # this was here to catch an error with the dataset\n",
    "    try:\n",
    "        # this adds theability as a ratio out of all abilities\n",
    "        abilitydf.at[row,\"Ability 1\"] =abilities.index(entry[0])/(len(abilities)-1)\n",
    "    except:\n",
    "        # for some reason, mega secptile didnt have any abilities\n",
    "        # i fixed that\n",
    "        print(row)\n",
    "    # if the pokemon has a second ability\n",
    "    if len(entry) >= 2:\n",
    "        abilitydf.at[row,\"Ability 2\"] =abilities.index(entry[1])/(len(abilities)-1)\n",
    "    # if the pokemon has a third ability\n",
    "    if len(entry) == 3:\n",
    "        abilitydf.at[row,\"Ability 3\"] =abilities.index(entry[2])/(len(abilities)-1)\n",
    "# displaying the first few entries of our normalized abilities\n",
    "abilitydf.head()"
   ]
  },
  {
   "cell_type": "code",
   "execution_count": 22,
   "metadata": {},
   "outputs": [
    {
     "data": {
      "text/html": [
       "<div>\n",
       "<style scoped>\n",
       "    .dataframe tbody tr th:only-of-type {\n",
       "        vertical-align: middle;\n",
       "    }\n",
       "\n",
       "    .dataframe tbody tr th {\n",
       "        vertical-align: top;\n",
       "    }\n",
       "\n",
       "    .dataframe thead th {\n",
       "        text-align: right;\n",
       "    }\n",
       "</style>\n",
       "<table border=\"1\" class=\"dataframe\">\n",
       "  <thead>\n",
       "    <tr style=\"text-align: right;\">\n",
       "      <th></th>\n",
       "      <th>Experience type</th>\n",
       "    </tr>\n",
       "  </thead>\n",
       "  <tbody>\n",
       "    <tr>\n",
       "      <th>0</th>\n",
       "      <td>0.0</td>\n",
       "    </tr>\n",
       "    <tr>\n",
       "      <th>1</th>\n",
       "      <td>0.0</td>\n",
       "    </tr>\n",
       "    <tr>\n",
       "      <th>2</th>\n",
       "      <td>0.0</td>\n",
       "    </tr>\n",
       "    <tr>\n",
       "      <th>3</th>\n",
       "      <td>0.0</td>\n",
       "    </tr>\n",
       "    <tr>\n",
       "      <th>4</th>\n",
       "      <td>0.0</td>\n",
       "    </tr>\n",
       "  </tbody>\n",
       "</table>\n",
       "</div>"
      ],
      "text/plain": [
       "   Experience type\n",
       "0              0.0\n",
       "1              0.0\n",
       "2              0.0\n",
       "3              0.0\n",
       "4              0.0"
      ]
     },
     "execution_count": 22,
     "metadata": {},
     "output_type": "execute_result"
    }
   ],
   "source": [
    "# making the experience type dataframe\n",
    "# normalizing as a ratio like above\n",
    "experiencedf = pd.DataFrame(np.zeros((m,1)),columns=[\"Experience type\"])\n",
    "# getting the number of experience types\n",
    "# I know there are only 6, but this can be scalable\n",
    "experiencelabels = list(df[\"Experience type\"].unique())\n",
    "# adding the ratio as entries to the new df\n",
    "for row in range(m):\n",
    "    entry = df[\"Experience type\"][row]\n",
    "    experiencedf.at[row,\"Experience type\"] = experiencelabels.index(entry)/(len(experiencelabels)-1)\n",
    "# showing the first few entries of the experience types df\n",
    "experiencedf.head()"
   ]
  },
  {
   "cell_type": "code",
   "execution_count": 23,
   "metadata": {},
   "outputs": [
    {
     "data": {
      "text/html": [
       "<div>\n",
       "<style scoped>\n",
       "    .dataframe tbody tr th:only-of-type {\n",
       "        vertical-align: middle;\n",
       "    }\n",
       "\n",
       "    .dataframe tbody tr th {\n",
       "        vertical-align: top;\n",
       "    }\n",
       "\n",
       "    .dataframe thead th {\n",
       "        text-align: right;\n",
       "    }\n",
       "</style>\n",
       "<table border=\"1\" class=\"dataframe\">\n",
       "  <thead>\n",
       "    <tr style=\"text-align: right;\">\n",
       "      <th></th>\n",
       "      <th>Bias</th>\n",
       "      <th>Type 1</th>\n",
       "      <th>Type 2</th>\n",
       "      <th>Ability 1</th>\n",
       "      <th>Ability 2</th>\n",
       "      <th>Ability 3</th>\n",
       "      <th>Experience type</th>\n",
       "      <th>Final Evolution</th>\n",
       "      <th>Mega Evolution</th>\n",
       "      <th>Legendary</th>\n",
       "    </tr>\n",
       "  </thead>\n",
       "  <tbody>\n",
       "    <tr>\n",
       "      <th>0</th>\n",
       "      <td>1</td>\n",
       "      <td>0.529412</td>\n",
       "      <td>0.777778</td>\n",
       "      <td>0.090909</td>\n",
       "      <td>0.534091</td>\n",
       "      <td>0.0</td>\n",
       "      <td>0.0</td>\n",
       "      <td>0.0</td>\n",
       "      <td>0.0</td>\n",
       "      <td>0.0</td>\n",
       "    </tr>\n",
       "    <tr>\n",
       "      <th>1</th>\n",
       "      <td>1</td>\n",
       "      <td>0.529412</td>\n",
       "      <td>0.777778</td>\n",
       "      <td>0.090909</td>\n",
       "      <td>0.534091</td>\n",
       "      <td>0.0</td>\n",
       "      <td>0.0</td>\n",
       "      <td>0.0</td>\n",
       "      <td>0.0</td>\n",
       "      <td>0.0</td>\n",
       "    </tr>\n",
       "    <tr>\n",
       "      <th>2</th>\n",
       "      <td>1</td>\n",
       "      <td>0.529412</td>\n",
       "      <td>0.777778</td>\n",
       "      <td>0.090909</td>\n",
       "      <td>0.534091</td>\n",
       "      <td>0.0</td>\n",
       "      <td>0.0</td>\n",
       "      <td>1.0</td>\n",
       "      <td>0.0</td>\n",
       "      <td>0.0</td>\n",
       "    </tr>\n",
       "    <tr>\n",
       "      <th>3</th>\n",
       "      <td>1</td>\n",
       "      <td>0.529412</td>\n",
       "      <td>0.777778</td>\n",
       "      <td>0.897727</td>\n",
       "      <td>0.000000</td>\n",
       "      <td>0.0</td>\n",
       "      <td>0.0</td>\n",
       "      <td>1.0</td>\n",
       "      <td>1.0</td>\n",
       "      <td>0.0</td>\n",
       "    </tr>\n",
       "    <tr>\n",
       "      <th>4</th>\n",
       "      <td>1</td>\n",
       "      <td>0.352941</td>\n",
       "      <td>0.000000</td>\n",
       "      <td>0.075758</td>\n",
       "      <td>0.772727</td>\n",
       "      <td>0.0</td>\n",
       "      <td>0.0</td>\n",
       "      <td>0.0</td>\n",
       "      <td>0.0</td>\n",
       "      <td>0.0</td>\n",
       "    </tr>\n",
       "  </tbody>\n",
       "</table>\n",
       "</div>"
      ],
      "text/plain": [
       "   Bias    Type 1    Type 2  Ability 1  Ability 2  Ability 3  Experience type  \\\n",
       "0     1  0.529412  0.777778   0.090909   0.534091        0.0              0.0   \n",
       "1     1  0.529412  0.777778   0.090909   0.534091        0.0              0.0   \n",
       "2     1  0.529412  0.777778   0.090909   0.534091        0.0              0.0   \n",
       "3     1  0.529412  0.777778   0.897727   0.000000        0.0              0.0   \n",
       "4     1  0.352941  0.000000   0.075758   0.772727        0.0              0.0   \n",
       "\n",
       "   Final Evolution  Mega Evolution  Legendary  \n",
       "0              0.0             0.0        0.0  \n",
       "1              0.0             0.0        0.0  \n",
       "2              1.0             0.0        0.0  \n",
       "3              1.0             1.0        0.0  \n",
       "4              0.0             0.0        0.0  "
      ]
     },
     "execution_count": 23,
     "metadata": {},
     "output_type": "execute_result"
    }
   ],
   "source": [
    "# assembling our input matrix\n",
    "X = pd.concat([pd.Series(1, index=df.index, name='Bias'),typesdf,abilitydf,experiencedf,df[[\"Final Evolution\",\"Mega Evolution\",\"Legendary\"]]],axis=1)\n",
    "X.head()"
   ]
  },
  {
   "cell_type": "markdown",
   "metadata": {
    "tags": []
   },
   "source": [
    "# Theta generator, Hypothesis, and Cost functions"
   ]
  },
  {
   "cell_type": "code",
   "execution_count": 24,
   "metadata": {},
   "outputs": [
    {
     "name": "stdout",
     "output_type": "stream",
     "text": [
      "(10, 6)\n"
     ]
    }
   ],
   "source": [
    "outputcol = len(y.columns)\n",
    "inputcol = len(X.columns)\n",
    "shapetheta = (inputcol,outputcol)\n",
    "print(shapetheta)"
   ]
  },
  {
   "cell_type": "code",
   "execution_count": 25,
   "metadata": {},
   "outputs": [],
   "source": [
    "# the hypothesis function\n",
    "def transform(X,theta):\n",
    "    \"\"\"\n",
    "    not np.transpose(theta) because of the way we define theta\n",
    "    we are transforming the n input columns of x\n",
    "        into the o output columns of y,\n",
    "        keeping the m rows\n",
    "    \"\"\"\n",
    "    return np.matmul(X,theta)"
   ]
  },
  {
   "cell_type": "code",
   "execution_count": 26,
   "metadata": {},
   "outputs": [],
   "source": [
    "def linearCost(dif,other=None):\n",
    "    \"\"\"\n",
    "    can take 1 or 2 parameters\n",
    "    1 param -> dif = the diference in y's\n",
    "    2 param -> dif=hypothesis,other=y\n",
    "    \"\"\"\n",
    "    if(other is not None):\n",
    "        dif = dif.to_numpy()-other.to_numpy()\n",
    "    # this now computes the cost based on the difference\n",
    "    square = dif**2\n",
    "    shape=square.shape\n",
    "    mhere=shape[0]\n",
    "    sumpty = np.sum(square,axis=0)\n",
    "    return sumpty/(2*mhere)\n",
    "    #return np.sum(np.sqrt((y1-y)**2))/(2*m)\n",
    "    # why did the original have a square root?"
   ]
  },
  {
   "cell_type": "markdown",
   "metadata": {},
   "source": [
    "# Testing the functions"
   ]
  },
  {
   "cell_type": "code",
   "execution_count": 27,
   "metadata": {},
   "outputs": [
    {
     "data": {
      "text/plain": [
       "array([[0., 0., 0., 0., 0., 0.],\n",
       "       [0., 0., 0., 0., 0., 0.],\n",
       "       [0., 0., 0., 0., 0., 0.],\n",
       "       [0., 0., 0., 0., 0., 0.],\n",
       "       [0., 0., 0., 0., 0., 0.],\n",
       "       [0., 0., 0., 0., 0., 0.],\n",
       "       [0., 0., 0., 0., 0., 0.],\n",
       "       [0., 0., 0., 0., 0., 0.],\n",
       "       [0., 0., 0., 0., 0., 0.],\n",
       "       [0., 0., 0., 0., 0., 0.]])"
      ]
     },
     "execution_count": 27,
     "metadata": {},
     "output_type": "execute_result"
    }
   ],
   "source": [
    "# an empty test theta\n",
    "lintheta = np.zeros(shapetheta)\n",
    "lintheta"
   ]
  },
  {
   "cell_type": "code",
   "execution_count": 28,
   "metadata": {
    "tags": []
   },
   "outputs": [
    {
     "data": {
      "text/html": [
       "<div>\n",
       "<style scoped>\n",
       "    .dataframe tbody tr th:only-of-type {\n",
       "        vertical-align: middle;\n",
       "    }\n",
       "\n",
       "    .dataframe tbody tr th {\n",
       "        vertical-align: top;\n",
       "    }\n",
       "\n",
       "    .dataframe thead th {\n",
       "        text-align: right;\n",
       "    }\n",
       "</style>\n",
       "<table border=\"1\" class=\"dataframe\">\n",
       "  <thead>\n",
       "    <tr style=\"text-align: right;\">\n",
       "      <th></th>\n",
       "      <th>0</th>\n",
       "      <th>1</th>\n",
       "      <th>2</th>\n",
       "      <th>3</th>\n",
       "      <th>4</th>\n",
       "      <th>5</th>\n",
       "    </tr>\n",
       "  </thead>\n",
       "  <tbody>\n",
       "    <tr>\n",
       "      <th>0</th>\n",
       "      <td>0.0</td>\n",
       "      <td>0.0</td>\n",
       "      <td>0.0</td>\n",
       "      <td>0.0</td>\n",
       "      <td>0.0</td>\n",
       "      <td>0.0</td>\n",
       "    </tr>\n",
       "    <tr>\n",
       "      <th>1</th>\n",
       "      <td>0.0</td>\n",
       "      <td>0.0</td>\n",
       "      <td>0.0</td>\n",
       "      <td>0.0</td>\n",
       "      <td>0.0</td>\n",
       "      <td>0.0</td>\n",
       "    </tr>\n",
       "    <tr>\n",
       "      <th>2</th>\n",
       "      <td>0.0</td>\n",
       "      <td>0.0</td>\n",
       "      <td>0.0</td>\n",
       "      <td>0.0</td>\n",
       "      <td>0.0</td>\n",
       "      <td>0.0</td>\n",
       "    </tr>\n",
       "    <tr>\n",
       "      <th>3</th>\n",
       "      <td>0.0</td>\n",
       "      <td>0.0</td>\n",
       "      <td>0.0</td>\n",
       "      <td>0.0</td>\n",
       "      <td>0.0</td>\n",
       "      <td>0.0</td>\n",
       "    </tr>\n",
       "    <tr>\n",
       "      <th>4</th>\n",
       "      <td>0.0</td>\n",
       "      <td>0.0</td>\n",
       "      <td>0.0</td>\n",
       "      <td>0.0</td>\n",
       "      <td>0.0</td>\n",
       "      <td>0.0</td>\n",
       "    </tr>\n",
       "  </tbody>\n",
       "</table>\n",
       "</div>"
      ],
      "text/plain": [
       "     0    1    2    3    4    5\n",
       "0  0.0  0.0  0.0  0.0  0.0  0.0\n",
       "1  0.0  0.0  0.0  0.0  0.0  0.0\n",
       "2  0.0  0.0  0.0  0.0  0.0  0.0\n",
       "3  0.0  0.0  0.0  0.0  0.0  0.0\n",
       "4  0.0  0.0  0.0  0.0  0.0  0.0"
      ]
     },
     "execution_count": 28,
     "metadata": {},
     "output_type": "execute_result"
    }
   ],
   "source": [
    "# a test hypothesis\n",
    "starthypo = transform(X,lintheta)\n",
    "starthypo.head()"
   ]
  },
  {
   "cell_type": "code",
   "execution_count": 29,
   "metadata": {},
   "outputs": [
    {
     "data": {
      "text/plain": [
       "array([2786.02858527, 3771.22141473, 3260.41521318, 3195.09205426,\n",
       "       2983.28100775, 2805.6124031 ])"
      ]
     },
     "execution_count": 29,
     "metadata": {},
     "output_type": "execute_result"
    }
   ],
   "source": [
    "# a test cost\n",
    "startcost = linearCost(y,starthypo)\n",
    "startcost"
   ]
  },
  {
   "cell_type": "markdown",
   "metadata": {},
   "source": [
    "# The gradient descent function"
   ]
  },
  {
   "cell_type": "code",
   "execution_count": 30,
   "metadata": {},
   "outputs": [],
   "source": [
    "def gradientDescent(X,y,theta,alpha,epochs):\n",
    "    \"\"\"\n",
    "    a function for regressing multiple linear regressors at the same time\n",
    "    exits early on either of two conditions:\n",
    "        any cost is increasing\n",
    "        none of the costs are decreasing\n",
    "    \"\"\"\n",
    "    # the costs over epochs\n",
    "    # stored as output rows and epoch columns\n",
    "    jArray=[]\n",
    "    # keep track of the costs for each output\n",
    "    outputnum = len(y.columns)\n",
    "    for f in range(outputnum):\n",
    "        jArray.append([])\n",
    "    # this will facilitate graphics later\n",
    "    \n",
    "    # number for the epochs\n",
    "    epoch = 0\n",
    "    # the descent loop\n",
    "    while epoch<epochs:\n",
    "        # a periodic checker for progress tracking\n",
    "        checker = (epoch%250 == 0)\n",
    "        \n",
    "        # the initial hypothesis before descent\n",
    "        hypothesis = transform(X,theta)\n",
    "        \n",
    "        # the differences in y\n",
    "        # since this difference is used for every regressive step, as well as the cost\n",
    "        ydif = hypothesis.to_numpy()-y.to_numpy()\n",
    "        \n",
    "        # getting the cost before descent step\n",
    "        costarray=linearCost(ydif)\n",
    "        \n",
    "        # providing upade on progress\n",
    "        if checker:\n",
    "            print(\"Epoch:\",epoch,\"Cost:\",costarray)\n",
    "            \n",
    "        # checking our exit conditions\n",
    "        if(epoch>0):\n",
    "            # only after the first epoch\n",
    "            \n",
    "            # a sum of the cost differences\n",
    "            costdifsum = 0\n",
    "            \n",
    "            # sum the costs\n",
    "            for x in range(len(costarray)):\n",
    "                # get the previous cost\n",
    "                oldcost = jArray[x][epoch-1]\n",
    "                # calculate the difference\n",
    "                costdif = costarray[x]-oldcost\n",
    "                \n",
    "                # increasing cost on this row:\n",
    "                if costdif > 0:\n",
    "                    # set the costdif sum to positive\n",
    "                    costdifsum = costdif\n",
    "                    break # escape cost summing for loop\n",
    "                else:\n",
    "                    # otherwise, add onto the cost dif sum and continue\n",
    "                    costdifsum += costdif\n",
    "            \n",
    "            # check the cost dif sum for exit conditions\n",
    "            if(costdifsum > 0):\n",
    "                print(\"Cost increasing! Stopping...\")\n",
    "                break # escape epochs for loop \n",
    "            elif(costdifsum == 0):\n",
    "                print(\"Convergence reached on all costs. Stopping...\")\n",
    "                break # escape epochs for loop \n",
    "        # escapes done before descent\n",
    "        \n",
    "        # the matrix we use to change theta\n",
    "        deltaTheta=np.zeros(theta.shape)\n",
    "        \n",
    "        # columns of theta correspond to outputs\n",
    "        for column in range(outputnum):\n",
    "            \n",
    "            # add the current cost to the costs matrix (while we are here)\n",
    "            jArray[column].append(costarray[column])\n",
    "            \n",
    "            # the rows of theta correspond to inputs\n",
    "            for row in range(len(X.columns)):\n",
    "                # compute the \"constant\" term in each derivative\n",
    "                thischange = -1*alpha/len(X)\n",
    "                # get the second part of our\n",
    "                # Dont need seperate case for theta0, as x0 is 1 in each entry\n",
    "                thischange *= sum(np.multiply(ydif[:,column],X.iloc[:,row]))\n",
    "                # add this to our delta theta matrix\n",
    "                deltaTheta[row,column]=thischange\n",
    "        # update thetas as informed by the partial derivatives\n",
    "        theta += deltaTheta\n",
    "        # move on to the next epoch\n",
    "        epoch += 1\n",
    "    print(\"Completed in\",epoch,\"epochs\")\n",
    "    # return the costs\n",
    "    # theta doesn't need to be returned as it is updated in place\n",
    "    return jArray"
   ]
  },
  {
   "cell_type": "code",
   "execution_count": 31,
   "metadata": {},
   "outputs": [
    {
     "name": "stdout",
     "output_type": "stream",
     "text": [
      "Epoch: 0 Cost: [2786.02858527 3771.22141473 3260.41521318 3195.09205426 2983.28100775\n",
      " 2805.6124031 ]\n",
      "Epoch: 250 Cost: [234.12370615 323.25044604 325.06373006 310.19911812 230.42304212\n",
      " 335.23416446]\n",
      "Epoch: 500 Cost: [232.24808435 318.44655135 323.90609736 303.96570703 227.72322449\n",
      " 329.45410748]\n",
      "Epoch: 750 Cost: [232.05441504 317.82146428 323.78632532 303.15317823 227.43168006\n",
      " 328.81020403]\n",
      "Completed in 1000 epochs\n"
     ]
    }
   ],
   "source": [
    "# testing the gradient descent to see if it works\n",
    "smallTestTheta=np.zeros(shapetheta)\n",
    "smallTestCosts = gradientDescent(X,y,smallTestTheta,0.1,1000)"
   ]
  },
  {
   "cell_type": "code",
   "execution_count": 32,
   "metadata": {},
   "outputs": [
    {
     "name": "stdout",
     "output_type": "stream",
     "text": [
      "[[ 4.91977723e+01  5.95425492e+01  4.51559119e+01  5.99717073e+01\n",
      "   5.25282122e+01  6.15273059e+01]\n",
      " [ 5.55285000e+00 -1.22076867e+00  1.28906280e+01  3.10416397e+00\n",
      "   4.85207525e+00 -9.10695369e+00]\n",
      " [-1.93218284e+00 -1.14465002e-01  1.80476194e+01  1.33666117e+00\n",
      "   7.10075626e+00 -5.18782458e+00]\n",
      " [ 4.55804379e-02  3.07152156e+00  4.36050930e+00 -5.16665342e+00\n",
      "  -5.51189434e+00 -1.85144434e+00]\n",
      " [ 6.76102348e-01  1.22823053e+00 -2.13588249e+00 -3.09208600e+00\n",
      "   8.42097907e-01  3.20188811e-01]\n",
      " [ 1.75571902e+00 -3.42369136e+00 -1.60907533e+00 -9.63124842e+00\n",
      "  -5.64616935e+00 -5.27857493e-01]\n",
      " [ 4.69767092e+00  3.39891952e+00  5.76027402e+00 -9.81155370e+00\n",
      "   2.65369993e+00 -6.65540579e+00]\n",
      " [ 2.46675479e+01  2.87328516e+01  2.37410504e+01  2.81530658e+01\n",
      "   2.71985839e+01  2.17762107e+01]\n",
      " [-1.05491716e+00  3.35136150e+01  1.78859910e+01  2.63967118e+01\n",
      "   1.48251381e+01  1.65076386e+01]\n",
      " [ 1.60289586e+01  1.98772551e+01  1.06116562e+01  2.83720766e+01\n",
      "   1.47090276e+01  2.52797596e+01]]\n",
      "2786.0285852713178 232.0323735469343\n",
      "3771.2214147286822 317.71466739109246\n",
      "3260.4152131782944 323.7697321005058\n",
      "3195.092054263566 303.02798348895277\n",
      "2983.281007751938 227.39544777167848\n",
      "2805.6124031007753 328.726789111904\n"
     ]
    }
   ],
   "source": [
    "print(smallTestTheta)\n",
    "for nthcost in smallTestCosts:\n",
    "    print(nthcost[0],nthcost[-1])"
   ]
  },
  {
   "cell_type": "markdown",
   "metadata": {},
   "source": [
    "# Splitting into training and test sets"
   ]
  },
  {
   "cell_type": "code",
   "execution_count": 33,
   "metadata": {},
   "outputs": [],
   "source": [
    "# chosing 21% testing examples\n",
    "# random state for reproduceability (i guess)\n",
    "# shuffle because pokemon are grouped by pokedex number, \n",
    "#    which is inherently grouped by evolution lines and regions\n",
    "trainX, testX, trainY, testY = sklmdl.train_test_split(X,y, test_size=0.21, random_state=55, shuffle=True)"
   ]
  },
  {
   "cell_type": "code",
   "execution_count": 34,
   "metadata": {},
   "outputs": [
    {
     "data": {
      "text/html": [
       "<div>\n",
       "<style scoped>\n",
       "    .dataframe tbody tr th:only-of-type {\n",
       "        vertical-align: middle;\n",
       "    }\n",
       "\n",
       "    .dataframe tbody tr th {\n",
       "        vertical-align: top;\n",
       "    }\n",
       "\n",
       "    .dataframe thead th {\n",
       "        text-align: right;\n",
       "    }\n",
       "</style>\n",
       "<table border=\"1\" class=\"dataframe\">\n",
       "  <thead>\n",
       "    <tr style=\"text-align: right;\">\n",
       "      <th></th>\n",
       "      <th>Bias</th>\n",
       "      <th>Type 1</th>\n",
       "      <th>Type 2</th>\n",
       "      <th>Ability 1</th>\n",
       "      <th>Ability 2</th>\n",
       "      <th>Ability 3</th>\n",
       "      <th>Experience type</th>\n",
       "      <th>Final Evolution</th>\n",
       "      <th>Mega Evolution</th>\n",
       "      <th>Legendary</th>\n",
       "    </tr>\n",
       "  </thead>\n",
       "  <tbody>\n",
       "    <tr>\n",
       "      <th>416</th>\n",
       "      <td>1</td>\n",
       "      <td>0.705882</td>\n",
       "      <td>0.000000</td>\n",
       "      <td>0.238636</td>\n",
       "      <td>0.000000</td>\n",
       "      <td>0.000000</td>\n",
       "      <td>0.2</td>\n",
       "      <td>1.0</td>\n",
       "      <td>0.0</td>\n",
       "      <td>0.0</td>\n",
       "    </tr>\n",
       "    <tr>\n",
       "      <th>382</th>\n",
       "      <td>1</td>\n",
       "      <td>1.000000</td>\n",
       "      <td>0.111111</td>\n",
       "      <td>0.840909</td>\n",
       "      <td>0.000000</td>\n",
       "      <td>0.000000</td>\n",
       "      <td>0.6</td>\n",
       "      <td>1.0</td>\n",
       "      <td>1.0</td>\n",
       "      <td>0.0</td>\n",
       "    </tr>\n",
       "    <tr>\n",
       "      <th>369</th>\n",
       "      <td>1</td>\n",
       "      <td>0.294118</td>\n",
       "      <td>0.833333</td>\n",
       "      <td>0.621212</td>\n",
       "      <td>0.000000</td>\n",
       "      <td>0.000000</td>\n",
       "      <td>0.2</td>\n",
       "      <td>1.0</td>\n",
       "      <td>1.0</td>\n",
       "      <td>0.0</td>\n",
       "    </tr>\n",
       "    <tr>\n",
       "      <th>218</th>\n",
       "      <td>1</td>\n",
       "      <td>0.235294</td>\n",
       "      <td>0.000000</td>\n",
       "      <td>0.325758</td>\n",
       "      <td>0.715909</td>\n",
       "      <td>0.852273</td>\n",
       "      <td>0.4</td>\n",
       "      <td>0.0</td>\n",
       "      <td>0.0</td>\n",
       "      <td>0.0</td>\n",
       "    </tr>\n",
       "    <tr>\n",
       "      <th>354</th>\n",
       "      <td>1</td>\n",
       "      <td>0.294118</td>\n",
       "      <td>0.000000</td>\n",
       "      <td>0.295455</td>\n",
       "      <td>0.731061</td>\n",
       "      <td>0.897727</td>\n",
       "      <td>0.8</td>\n",
       "      <td>1.0</td>\n",
       "      <td>0.0</td>\n",
       "      <td>0.0</td>\n",
       "    </tr>\n",
       "  </tbody>\n",
       "</table>\n",
       "</div>"
      ],
      "text/plain": [
       "     Bias    Type 1    Type 2  Ability 1  Ability 2  Ability 3  \\\n",
       "416     1  0.705882  0.000000   0.238636   0.000000   0.000000   \n",
       "382     1  1.000000  0.111111   0.840909   0.000000   0.000000   \n",
       "369     1  0.294118  0.833333   0.621212   0.000000   0.000000   \n",
       "218     1  0.235294  0.000000   0.325758   0.715909   0.852273   \n",
       "354     1  0.294118  0.000000   0.295455   0.731061   0.897727   \n",
       "\n",
       "     Experience type  Final Evolution  Mega Evolution  Legendary  \n",
       "416              0.2              1.0             0.0        0.0  \n",
       "382              0.6              1.0             1.0        0.0  \n",
       "369              0.2              1.0             1.0        0.0  \n",
       "218              0.4              0.0             0.0        0.0  \n",
       "354              0.8              1.0             0.0        0.0  "
      ]
     },
     "execution_count": 34,
     "metadata": {},
     "output_type": "execute_result"
    }
   ],
   "source": [
    "trainX.head()"
   ]
  },
  {
   "cell_type": "code",
   "execution_count": 35,
   "metadata": {},
   "outputs": [
    {
     "data": {
      "text/html": [
       "<div>\n",
       "<style scoped>\n",
       "    .dataframe tbody tr th:only-of-type {\n",
       "        vertical-align: middle;\n",
       "    }\n",
       "\n",
       "    .dataframe tbody tr th {\n",
       "        vertical-align: top;\n",
       "    }\n",
       "\n",
       "    .dataframe thead th {\n",
       "        text-align: right;\n",
       "    }\n",
       "</style>\n",
       "<table border=\"1\" class=\"dataframe\">\n",
       "  <thead>\n",
       "    <tr style=\"text-align: right;\">\n",
       "      <th></th>\n",
       "      <th>Bias</th>\n",
       "      <th>Type 1</th>\n",
       "      <th>Type 2</th>\n",
       "      <th>Ability 1</th>\n",
       "      <th>Ability 2</th>\n",
       "      <th>Ability 3</th>\n",
       "      <th>Experience type</th>\n",
       "      <th>Final Evolution</th>\n",
       "      <th>Mega Evolution</th>\n",
       "      <th>Legendary</th>\n",
       "    </tr>\n",
       "  </thead>\n",
       "  <tbody>\n",
       "    <tr>\n",
       "      <th>151</th>\n",
       "      <td>1</td>\n",
       "      <td>1.000000</td>\n",
       "      <td>0.000000</td>\n",
       "      <td>0.136364</td>\n",
       "      <td>0.571970</td>\n",
       "      <td>0.761364</td>\n",
       "      <td>0.2</td>\n",
       "      <td>0.0</td>\n",
       "      <td>0.0</td>\n",
       "      <td>0.0</td>\n",
       "    </tr>\n",
       "    <tr>\n",
       "      <th>255</th>\n",
       "      <td>1</td>\n",
       "      <td>0.235294</td>\n",
       "      <td>0.000000</td>\n",
       "      <td>0.378788</td>\n",
       "      <td>0.643939</td>\n",
       "      <td>0.678030</td>\n",
       "      <td>0.4</td>\n",
       "      <td>0.0</td>\n",
       "      <td>0.0</td>\n",
       "      <td>0.0</td>\n",
       "    </tr>\n",
       "    <tr>\n",
       "      <th>926</th>\n",
       "      <td>1</td>\n",
       "      <td>0.823529</td>\n",
       "      <td>0.500000</td>\n",
       "      <td>0.602273</td>\n",
       "      <td>0.000000</td>\n",
       "      <td>0.000000</td>\n",
       "      <td>0.6</td>\n",
       "      <td>1.0</td>\n",
       "      <td>0.0</td>\n",
       "      <td>1.0</td>\n",
       "    </tr>\n",
       "    <tr>\n",
       "      <th>159</th>\n",
       "      <td>1</td>\n",
       "      <td>0.647059</td>\n",
       "      <td>0.833333</td>\n",
       "      <td>0.189394</td>\n",
       "      <td>0.242424</td>\n",
       "      <td>0.526515</td>\n",
       "      <td>0.2</td>\n",
       "      <td>1.0</td>\n",
       "      <td>0.0</td>\n",
       "      <td>0.0</td>\n",
       "    </tr>\n",
       "    <tr>\n",
       "      <th>515</th>\n",
       "      <td>1</td>\n",
       "      <td>0.764706</td>\n",
       "      <td>0.111111</td>\n",
       "      <td>0.011364</td>\n",
       "      <td>0.397727</td>\n",
       "      <td>0.829545</td>\n",
       "      <td>0.2</td>\n",
       "      <td>0.0</td>\n",
       "      <td>0.0</td>\n",
       "      <td>0.0</td>\n",
       "    </tr>\n",
       "  </tbody>\n",
       "</table>\n",
       "</div>"
      ],
      "text/plain": [
       "     Bias    Type 1    Type 2  Ability 1  Ability 2  Ability 3  \\\n",
       "151     1  1.000000  0.000000   0.136364   0.571970   0.761364   \n",
       "255     1  0.235294  0.000000   0.378788   0.643939   0.678030   \n",
       "926     1  0.823529  0.500000   0.602273   0.000000   0.000000   \n",
       "159     1  0.647059  0.833333   0.189394   0.242424   0.526515   \n",
       "515     1  0.764706  0.111111   0.011364   0.397727   0.829545   \n",
       "\n",
       "     Experience type  Final Evolution  Mega Evolution  Legendary  \n",
       "151              0.2              0.0             0.0        0.0  \n",
       "255              0.4              0.0             0.0        0.0  \n",
       "926              0.6              1.0             0.0        1.0  \n",
       "159              0.2              1.0             0.0        0.0  \n",
       "515              0.2              0.0             0.0        0.0  "
      ]
     },
     "execution_count": 35,
     "metadata": {},
     "output_type": "execute_result"
    }
   ],
   "source": [
    "testX.head()"
   ]
  },
  {
   "cell_type": "code",
   "execution_count": 36,
   "metadata": {},
   "outputs": [
    {
     "name": "stdout",
     "output_type": "stream",
     "text": [
      "Epoch: 0 Cost: [2763.30429448 3755.49693252 3260.57668712 3082.9809816  2873.94110429\n",
      " 2815.65092025]\n",
      "Epoch: 250 Cost: [252.05268679 326.57408976 330.7198907  303.25168646 224.00551389\n",
      " 343.97035355]\n",
      "Epoch: 500 Cost: [249.98369535 321.87732795 329.3754767  297.72252605 220.95618271\n",
      " 337.97670053]\n",
      "Epoch: 750 Cost: [249.78432038 321.23703109 329.26010463 296.96469224 220.64086906\n",
      " 337.23967397]\n",
      "Epoch: 1000 Cost: [249.76363731 321.11946401 329.24740853 296.83834099 220.60273675\n",
      " 337.12464249]\n",
      "Epoch: 1250 Cost: [249.76132083 321.09381839 329.2455939  296.81341869 220.59702037\n",
      " 337.1028744 ]\n",
      "Epoch: 1500 Cost: [249.7610316  321.08775945 329.24526094 296.80791566 220.59595929\n",
      " 337.09817614]\n",
      "Epoch: 1750 Cost: [249.76098971 321.08627928 329.24518879 296.80662131 220.59573055\n",
      " 337.09708342]\n",
      "Epoch: 2000 Cost: [249.76098252 321.08591267 329.2451718  296.80630697 220.59567708\n",
      " 337.09681944]\n",
      "Epoch: 2250 Cost: [249.7609811  321.08582135 329.24516765 296.80622944 220.59566411\n",
      " 337.09675448]\n",
      "Epoch: 2500 Cost: [249.76098078 321.08579855 329.24516663 296.80621017 220.59566091\n",
      " 337.09673836]\n",
      "Epoch: 2750 Cost: [249.76098071 321.08579285 329.24516637 296.80620537 220.59566011\n",
      " 337.09673434]\n",
      "Epoch: 3000 Cost: [249.76098069 321.08579142 329.24516631 296.80620417 220.59565991\n",
      " 337.09673334]\n",
      "Epoch: 3250 Cost: [249.76098068 321.08579107 329.24516629 296.80620387 220.59565986\n",
      " 337.09673309]\n",
      "Epoch: 3500 Cost: [249.76098068 321.08579098 329.24516629 296.80620379 220.59565985\n",
      " 337.09673303]\n",
      "Cost increasing! Stopping...\n",
      "Completed in 3745 epochs\n"
     ]
    }
   ],
   "source": [
    "# training on 10,000 epochs\n",
    "learnTheta=np.zeros((len(trainX.columns),len(trainY.columns)))\n",
    "costs = gradientDescent(trainX,trainY,learnTheta,0.1,10000) "
   ]
  },
  {
   "cell_type": "code",
   "execution_count": 37,
   "metadata": {},
   "outputs": [
    {
     "name": "stdout",
     "output_type": "stream",
     "text": [
      "             0           1           2           3          4          5\n",
      "151  57.703072   57.657201   58.340929   52.479255  54.571427  51.499967\n",
      "255  53.835982   60.338223   49.962230   46.370395  48.120251  57.449356\n",
      "926  96.603838  113.034183  104.091513  110.094931  97.898949  94.706175\n",
      "159  78.142574   88.077907   94.574397   82.231414  86.365359  70.187555\n",
      "515  56.109792   57.156310   57.503539   51.651775  54.521102  52.772022\n",
      "[166.89555854 307.95832468 308.17172306 331.41849931 258.23863552\n",
      " 302.34470789]\n"
     ]
    }
   ],
   "source": [
    "# testing the learned thetas\n",
    "test_hypothesis = transform(testX,learnTheta)\n",
    "print(test_hypothesis.head())\n",
    "testcost = linearCost(test_hypothesis,testY)\n",
    "print(testcost)"
   ]
  },
  {
   "cell_type": "code",
   "execution_count": 38,
   "metadata": {},
   "outputs": [
    {
     "name": "stdout",
     "output_type": "stream",
     "text": [
      "[249.76098068155045, 321.0857909554987, 329.24516628516955, 296.80620377296356, 220.59565984604157, 337.0967330118163]\n"
     ]
    }
   ],
   "source": [
    "# final training cost array\n",
    "fintraincost=[]\n",
    "# getting the last column in each row of the training costs matrix\n",
    "for x in range(len(testcost)):\n",
    "    fintraincost.append(costs[x][-1])\n",
    "print(fintraincost)"
   ]
  },
  {
   "cell_type": "code",
   "execution_count": 39,
   "metadata": {},
   "outputs": [
    {
     "name": "stdout",
     "output_type": "stream",
     "text": [
      "[-82.86542214 -13.12746627 -21.07344323  34.61229554  37.64297567\n",
      " -34.75202513]\n",
      "-13.260514260167838\n"
     ]
    }
   ],
   "source": [
    "# getting the difference in costs\n",
    "traintestcostdif=testcost-fintraincost\n",
    "print(traintestcostdif)\n",
    "# summing these differences together and averageing\n",
    "avgcostdif=sum(traintestcostdif)/len(traintestcostdif)\n",
    "print(avgcostdif)"
   ]
  },
  {
   "cell_type": "markdown",
   "metadata": {},
   "source": [
    "# Plotting the cost descents"
   ]
  },
  {
   "cell_type": "code",
   "execution_count": 40,
   "metadata": {},
   "outputs": [],
   "source": [
    "# switch this bool to true to save each figure as an image\n",
    "saveimages=False"
   ]
  },
  {
   "cell_type": "code",
   "execution_count": 41,
   "metadata": {},
   "outputs": [
    {
     "data": {
      "image/png": "[encoded data removed]",
      "text/plain": [
       "<Figure size 432x288 with 1 Axes>"
      ]
     },
     "metadata": {
      "needs_background": "light"
     },
     "output_type": "display_data"
    },
    {
     "data": {
      "image/png": "[encoded data removed]",
      "text/plain": [
       "<Figure size 432x288 with 1 Axes>"
      ]
     },
     "metadata": {
      "needs_background": "light"
     },
     "output_type": "display_data"
    },
    {
     "data": {
      "image/png": "[encoded data removed]",
      "text/plain": [
       "<Figure size 432x288 with 1 Axes>"
      ]
     },
     "metadata": {
      "needs_background": "light"
     },
     "output_type": "display_data"
    },
    {
     "data": {
      "image/png": "[encoded data removed]",
      "text/plain": [
       "<Figure size 432x288 with 1 Axes>"
      ]
     },
     "metadata": {
      "needs_background": "light"
     },
     "output_type": "display_data"
    },
    {
     "data": {
      "image/png": "[encoded data removed]",
      "text/plain": [
       "<Figure size 432x288 with 1 Axes>"
      ]
     },
     "metadata": {
      "needs_background": "light"
     },
     "output_type": "display_data"
    },
    {
     "data": {
      "image/png": "[encoded data removed]",
      "text/plain": [
       "<Figure size 432x288 with 1 Axes>"
      ]
     },
     "metadata": {
      "needs_background": "light"
     },
     "output_type": "display_data"
    }
   ],
   "source": [
    "colors=[\"red\",\"blue\",\"yellow\",\"green\",\"pink\",\"orange\"]\n",
    "labels=y.columns\n",
    "xrange = range(len(costs[0]))\n",
    "for yset in range(len(costs)):\n",
    "    plt.figure()\n",
    "    plt.title(\"cost of \"+labels[yset]+\" line per epoch\")\n",
    "    plt.scatter(x=xrange,y=costs[yset],color=colors[yset%len(costs)])\n",
    "    # saving the fig locally\n",
    "    if saveimages:\n",
    "        plt.savefig(\"Cost{a}OverEpochs.png\".format(a=labels[yset]))\n",
    "    plt.show()"
   ]
  },
  {
   "cell_type": "markdown",
   "metadata": {},
   "source": [
    "# Checking fit to full dataset"
   ]
  },
  {
   "cell_type": "code",
   "execution_count": 42,
   "metadata": {},
   "outputs": [
    {
     "data": {
      "text/html": [
       "<div>\n",
       "<style scoped>\n",
       "    .dataframe tbody tr th:only-of-type {\n",
       "        vertical-align: middle;\n",
       "    }\n",
       "\n",
       "    .dataframe tbody tr th {\n",
       "        vertical-align: top;\n",
       "    }\n",
       "\n",
       "    .dataframe thead th {\n",
       "        text-align: right;\n",
       "    }\n",
       "</style>\n",
       "<table border=\"1\" class=\"dataframe\">\n",
       "  <thead>\n",
       "    <tr style=\"text-align: right;\">\n",
       "      <th></th>\n",
       "      <th>0</th>\n",
       "      <th>1</th>\n",
       "      <th>2</th>\n",
       "      <th>3</th>\n",
       "      <th>4</th>\n",
       "      <th>5</th>\n",
       "    </tr>\n",
       "  </thead>\n",
       "  <tbody>\n",
       "    <tr>\n",
       "      <th>0</th>\n",
       "      <td>52.620436</td>\n",
       "      <td>61.993190</td>\n",
       "      <td>65.385044</td>\n",
       "      <td>59.945648</td>\n",
       "      <td>61.597868</td>\n",
       "      <td>53.024207</td>\n",
       "    </tr>\n",
       "    <tr>\n",
       "      <th>1</th>\n",
       "      <td>52.620436</td>\n",
       "      <td>61.993190</td>\n",
       "      <td>65.385044</td>\n",
       "      <td>59.945648</td>\n",
       "      <td>61.597868</td>\n",
       "      <td>53.024207</td>\n",
       "    </tr>\n",
       "    <tr>\n",
       "      <th>2</th>\n",
       "      <td>77.103313</td>\n",
       "      <td>90.204101</td>\n",
       "      <td>89.735279</td>\n",
       "      <td>88.177895</td>\n",
       "      <td>88.879611</td>\n",
       "      <td>74.103224</td>\n",
       "    </tr>\n",
       "    <tr>\n",
       "      <th>3</th>\n",
       "      <td>74.922203</td>\n",
       "      <td>125.080946</td>\n",
       "      <td>113.669052</td>\n",
       "      <td>110.063350</td>\n",
       "      <td>97.447150</td>\n",
       "      <td>92.855798</td>\n",
       "    </tr>\n",
       "    <tr>\n",
       "      <th>4</th>\n",
       "      <td>53.391910</td>\n",
       "      <td>61.526359</td>\n",
       "      <td>48.407681</td>\n",
       "      <td>57.905367</td>\n",
       "      <td>55.204774</td>\n",
       "      <td>59.973589</td>\n",
       "    </tr>\n",
       "  </tbody>\n",
       "</table>\n",
       "</div>"
      ],
      "text/plain": [
       "           0           1           2           3          4          5\n",
       "0  52.620436   61.993190   65.385044   59.945648  61.597868  53.024207\n",
       "1  52.620436   61.993190   65.385044   59.945648  61.597868  53.024207\n",
       "2  77.103313   90.204101   89.735279   88.177895  88.879611  74.103224\n",
       "3  74.922203  125.080946  113.669052  110.063350  97.447150  92.855798\n",
       "4  53.391910   61.526359   48.407681   57.905367  55.204774  59.973589"
      ]
     },
     "execution_count": 42,
     "metadata": {},
     "output_type": "execute_result"
    }
   ],
   "source": [
    "# transforming the full dataset by theta\n",
    "fulfit = transform(X,learnTheta)\n",
    "# viewing the reulting outputs\n",
    "fulfit.head()"
   ]
  },
  {
   "cell_type": "code",
   "execution_count": 44,
   "metadata": {},
   "outputs": [
    {
     "data": {
      "image/png": "[encoded data removed]",
      "text/plain": [
       "<Figure size 432x288 with 1 Axes>"
      ]
     },
     "metadata": {
      "needs_background": "light"
     },
     "output_type": "display_data"
    },
    {
     "data": {
      "image/png": "[encoded data removed]",
      "text/plain": [
       "<Figure size 432x288 with 1 Axes>"
      ]
     },
     "metadata": {
      "needs_background": "light"
     },
     "output_type": "display_data"
    },
    {
     "data": {
      "image/png": "[encoded data removed]",
      "text/plain": [
       "<Figure size 432x288 with 1 Axes>"
      ]
     },
     "metadata": {
      "needs_background": "light"
     },
     "output_type": "display_data"
    },
    {
     "data": {
      "image/png": "[encoded data removed]",
      "text/plain": [
       "<Figure size 432x288 with 1 Axes>"
      ]
     },
     "metadata": {
      "needs_background": "light"
     },
     "output_type": "display_data"
    },
    {
     "data": {
      "image/png": "[encoded data removed]",
      "text/plain": [
       "<Figure size 432x288 with 1 Axes>"
      ]
     },
     "metadata": {
      "needs_background": "light"
     },
     "output_type": "display_data"
    },
    {
     "data": {
      "image/png": "[encoded data removed]",
      "text/plain": [
       "<Figure size 432x288 with 1 Axes>"
      ]
     },
     "metadata": {
      "needs_background": "light"
     },
     "output_type": "display_data"
    }
   ],
   "source": [
    "# plotting by entry\n",
    "# x axis is entry number\n",
    "# y is the value of that given stat\n",
    "xrangef=range(m)\n",
    "for yset in range(len(costs)):\n",
    "    plt.figure()\n",
    "    plt.title(\"Thetas' \"+labels[yset]+\" fit to overall data\")\n",
    "    # the actual value\n",
    "    plt.scatter(x=xrangef,y=y[labels[yset]],color=\"black\")\n",
    "    # the predicted value\n",
    "    plt.scatter(x=xrangef,y=fulfit[yset],color=colors[yset])\n",
    "    if saveimages:\n",
    "        plt.savefig(\"Fit{a}OverFull.png\".format(a=labels[yset]))\n",
    "    plt.show()"
   ]
  }
 ],
 "metadata": {
  "kernelspec": {
   "display_name": "Python 3 (ipykernel)",
   "language": "python",
   "name": "python3"
  },
  "language_info": {
   "codemirror_mode": {
    "name": "ipython",
    "version": 3
   },
   "file_extension": ".py",
   "mimetype": "text/x-python",
   "name": "python",
   "nbconvert_exporter": "python",
   "pygments_lexer": "ipython3",
   "version": "3.9.4"
  }
 },
 "nbformat": 4,
 "nbformat_minor": 4
}
